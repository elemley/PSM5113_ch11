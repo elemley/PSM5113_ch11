{
 "cells": [
  {
   "cell_type": "markdown",
   "metadata": {
    "collapsed": true
   },
   "source": [
    "# Agent-Based Models"
   ]
  },
  {
   "cell_type": "markdown",
   "metadata": {},
   "source": [
    "In the last section we discussed Cellular Automata in which everything was in a grid and each cell location had an associated state. Rules were applied as each cell's state changed over time. This section is about agent-based models. Models where an individual is allowed to interact with it's surroundings/environment. There are rules associated with their interactions.\n",
    "\n"
   ]
  },
  {
   "cell_type": "markdown",
   "metadata": {},
   "source": [
    "## The Prisoner's Dilemma"
   ]
  },
  {
   "cell_type": "markdown",
   "metadata": {},
   "source": [
    "In this example there are two criminals (A and B) that have been arrested. They are in confinement where they cannot communicate. Independently each prisoner is guilty of a lesser charge, but the evidence is lacking to convict both together of a more serious crime... unless they betray one another. The rules for what will happen based on what the prisoner's choose to do are:\n",
    "\n",
    "* If A and B betray each other, each will serve two years in prison.\n",
    "* If A betrays B, B remains silent, A will be free and B will serve three years (and vice-versa).\n",
    "* If A and B both are silent, each will serve one year."
   ]
  },
  {
   "cell_type": "code",
   "execution_count": null,
   "metadata": {},
   "outputs": [],
   "source": [
    ""
   ]
  },
  {
   "cell_type": "code",
   "execution_count": null,
   "outputs": [],
   "source": [
    ""
   ]
  }
 ],
 "metadata": {
  "kernelspec": {
   "display_name": "Python 2",
   "language": "python",
   "name": "python2"
  },
  "language_info": {
   "codemirror_mode": {
    "name": "ipython",
    "version": 2.0
   },
   "file_extension": ".py",
   "mimetype": "text/x-python",
   "name": "python",
   "nbconvert_exporter": "python",
   "pygments_lexer": "ipython2",
   "version": "2.7.6"
  }
 },
 "nbformat": 4,
 "nbformat_minor": 0
}